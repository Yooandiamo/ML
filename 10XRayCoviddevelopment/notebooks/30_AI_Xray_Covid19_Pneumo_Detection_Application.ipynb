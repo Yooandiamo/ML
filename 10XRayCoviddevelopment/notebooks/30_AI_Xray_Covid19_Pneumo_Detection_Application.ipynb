{
 "cells": [
  {
   "cell_type": "markdown",
   "metadata": {},
   "source": [
    "# Covid-19 vs Pneumo Xray Detection - Testing Application"
   ]
  },
  {
   "cell_type": "markdown",
   "metadata": {},
   "source": [
    "<img src=\"../images/portada.png\"/>\n",
    "Developed by M.Rovai @ May,14 2020<br>\n",
    "\n",
    "Based on the word of [Adrian Rosebrock](https://www.pyimagesearch.com/2020/03/16/detecting-covid-19-in-x-ray-images-with-keras-tensorflow-and-deep-learning/) and [Nell Trevor](https://www.kaggle.com/mauddib/covid-19-x-ray-deep-learning-api-endpoint-code)\n"
   ]
  },
  {
   "cell_type": "markdown",
   "metadata": {},
   "source": [
    "## Disclaimer\n",
    "\n",
    "The deployment of an automatic COVID-19 detection is for educational purposes only. It is not meant to be a reliable, highly accurate COVID-19 diagnosis system, nor has it been professionally or academically vetted."
   ]
  },
  {
   "cell_type": "markdown",
   "metadata": {},
   "source": [
    "## Introduction"
   ]
  },
  {
   "cell_type": "markdown",
   "metadata": {},
   "source": [
    "**Inspiration**\n",
    "\n",
    "The inspiration of this project, was to understand and create a didactic proof of concept of the work \"[XRayCovid-19](http://tools.atislabs.com.br/covid)\" developed by UFRRJ (Universidade Federal Rural do Rio de Janiero). **XRayCovid-19** is an ongoing project that uses Artificial Intelligence to assist the health system in the COVID-19 diagnostic process. It is characterized by easy use; efficiency in response time and effectiveness in the result.\n",
    "\n",
    "**Why X-rays?**\n",
    "\n",
    "There have been promising efforts to apply machine learning to aid in the diagnosis of COVID-19 based on CT scans. Despite the success of these methods, the fact remains that COVID-19 is an infection that is likely to be experienced by communities of all sizes. X-rays are inexpensive and quick to perform; therefore, they are more accessible to healthcare providers working in smaller and/or remote regions. \n",
    "\n",
    "**Thanks**\n",
    "\n",
    "This work was developed using TensorFlow and Keras, based on the great tutorial published by [Dr. Adrian Rosebrock](https://www.pyimagesearch.com/2020/03/16/detecting-covid-19-in-x-ray-images-with-keras-tensorflow-and-deep-learning/). Also, I would like to thanks Nell Trevor that, also based on Dr. Rosebrock's work, provided an endpoint idea, where the resultant model could be tested: [Covid-19 predictor API](http://coviddetector.pythonanywhere.com)"
   ]
  },
  {
   "cell_type": "markdown",
   "metadata": {},
   "source": [
    "## Papers\n",
    "\n",
    "- [[1] 2020 Chowdhury et al - Can AI help in screening Viral and COVID-19 pneumonia?](https://arxiv.org/pdf/2003.13145.pdf)\n",
    "- [[2] 2020 Hall et all - Finding COVID-19 from Chest X-rays using Deep Learning on a Small Dataset](https://arxiv.org/pdf/2004.02060.pdf)\n",
    "- [[3] 2020 COVID-19 Screening on Chest X-ray Images Using Deep Learning based Anomaly Detection](https://arxiv.org/pdf/2003.12338.pdf)"
   ]
  },
  {
   "cell_type": "markdown",
   "metadata": {},
   "source": [
    "## Import Libraries and Setup"
   ]
  },
  {
   "cell_type": "code",
   "execution_count": 12,
   "metadata": {
    "ExecuteTime": {
     "end_time": "2020-05-14T16:05:20.139387Z",
     "start_time": "2020-05-14T16:05:19.668900Z"
    }
   },
   "outputs": [],
   "source": []
  },
  {
   "cell_type": "code",
   "execution_count": 16,
   "metadata": {
    "ExecuteTime": {
     "end_time": "2020-05-14T16:10:18.958120Z",
     "start_time": "2020-05-14T16:10:18.955526Z"
    }
   },
   "outputs": [],
   "source": [
    "import cv2\n",
    "from tensorflow.keras.models import load_model"
   ]
  },
  {
   "cell_type": "markdown",
   "metadata": {},
   "source": [
    "## Support Functions"
   ]
  },
  {
   "cell_type": "code",
   "execution_count": 10,
   "metadata": {
    "ExecuteTime": {
     "end_time": "2020-05-14T16:04:51.780358Z",
     "start_time": "2020-05-14T16:04:51.773147Z"
    }
   },
   "outputs": [],
   "source": [
    "def test_rx_image_for_Covid19_2(model, imagePath):\n",
    "    img = cv2.imread(imagePath)\n",
    "    img_out = img\n",
    "    img = cv2.cvtColor(img, cv2.COLOR_BGR2RGB)\n",
    "    img = cv2.resize(img, (224, 224))\n",
    "    img = np.expand_dims(img, axis=0)\n",
    "\n",
    "    img = np.array(img) / 255.0\n",
    "\n",
    "    pred = model.predict(img)\n",
    "    pred_neg = round(pred[0][1]*100)\n",
    "    pred_pos = round(pred[0][0]*100)\n",
    "    \n",
    "    if np.argmax(pred, axis=1)[0] == 1:\n",
    "        prediction = 'NEGATIVE'\n",
    "        prob = pred_neg\n",
    "    else:\n",
    "        prediction = 'POSITIVE'\n",
    "        prob = pred_pos\n",
    "\n",
    "    cv2.imwrite('../Image_Prediction/Image_Prediction.png', img_out)\n",
    "    return prediction, prob"
   ]
  },
  {
   "cell_type": "markdown",
   "metadata": {
    "ExecuteTime": {
     "end_time": "2020-05-03T17:02:08.966417Z",
     "start_time": "2020-05-03T17:02:08.877825Z"
    }
   },
   "source": [
    "## General Technical overview"
   ]
  },
  {
   "cell_type": "markdown",
   "metadata": {},
   "source": [
    "**What is the difference between an AP and a PA view of an X-ray?**\n",
    "in simple words, during the procedure of taking x-ray radiograph when x-ray passes from posterior of body to anterior, it is called PA view. While in AP view the direction is opposite.\n",
    "\n",
    "Now let's understand the importance of doing this. According to concepts of physics the less the distance between the object and screen more clearer shadow is formed. In this case x-ray is the light source and we are the object. So, in AP view posterior aspect gives better shadow, while in PA view anterior aspect gives better shadow.\n",
    "\n",
    "Mostly the x-ray is taken in AP view for any body part. An important exception here is the Chest. In Chest, we prefer the **PA view** over AP view. But if the patient is very ill and not able to maintain his position then AP view can be done for chest.\n",
    "\n",
    "<img src=\"../images/ap_pa_chest.jpg\"/>\n",
    "\n",
    "From exam point of view, any x-ray you see in general is AP, or L (Lateral) and any chest x-ray is PA view mostly."
   ]
  },
  {
   "cell_type": "markdown",
   "metadata": {},
   "source": [
    "## Loading Model"
   ]
  },
  {
   "cell_type": "code",
   "execution_count": 3,
   "metadata": {
    "ExecuteTime": {
     "end_time": "2020-05-14T16:02:10.880460Z",
     "start_time": "2020-05-14T16:02:09.955259Z"
    }
   },
   "outputs": [
    {
     "name": "stdout",
     "output_type": "stream",
     "text": [
      "Model: \"model_2\"\n",
      "_________________________________________________________________\n",
      "Layer (type)                 Output Shape              Param #   \n",
      "=================================================================\n",
      "input_1 (InputLayer)         [(None, 224, 224, 3)]     0         \n",
      "_________________________________________________________________\n",
      "block1_conv1 (Conv2D)        (None, 224, 224, 64)      1792      \n",
      "_________________________________________________________________\n",
      "block1_conv2 (Conv2D)        (None, 224, 224, 64)      36928     \n",
      "_________________________________________________________________\n",
      "block1_pool (MaxPooling2D)   (None, 112, 112, 64)      0         \n",
      "_________________________________________________________________\n",
      "block2_conv1 (Conv2D)        (None, 112, 112, 128)     73856     \n",
      "_________________________________________________________________\n",
      "block2_conv2 (Conv2D)        (None, 112, 112, 128)     147584    \n",
      "_________________________________________________________________\n",
      "block2_pool (MaxPooling2D)   (None, 56, 56, 128)       0         \n",
      "_________________________________________________________________\n",
      "block3_conv1 (Conv2D)        (None, 56, 56, 256)       295168    \n",
      "_________________________________________________________________\n",
      "block3_conv2 (Conv2D)        (None, 56, 56, 256)       590080    \n",
      "_________________________________________________________________\n",
      "block3_conv3 (Conv2D)        (None, 56, 56, 256)       590080    \n",
      "_________________________________________________________________\n",
      "block3_pool (MaxPooling2D)   (None, 28, 28, 256)       0         \n",
      "_________________________________________________________________\n",
      "block4_conv1 (Conv2D)        (None, 28, 28, 512)       1180160   \n",
      "_________________________________________________________________\n",
      "block4_conv2 (Conv2D)        (None, 28, 28, 512)       2359808   \n",
      "_________________________________________________________________\n",
      "block4_conv3 (Conv2D)        (None, 28, 28, 512)       2359808   \n",
      "_________________________________________________________________\n",
      "block4_pool (MaxPooling2D)   (None, 14, 14, 512)       0         \n",
      "_________________________________________________________________\n",
      "block5_conv1 (Conv2D)        (None, 14, 14, 512)       2359808   \n",
      "_________________________________________________________________\n",
      "block5_conv2 (Conv2D)        (None, 14, 14, 512)       2359808   \n",
      "_________________________________________________________________\n",
      "block5_conv3 (Conv2D)        (None, 14, 14, 512)       2359808   \n",
      "_________________________________________________________________\n",
      "block5_pool (MaxPooling2D)   (None, 7, 7, 512)         0         \n",
      "_________________________________________________________________\n",
      "average_pooling2d_2 (Average (None, 3, 3, 512)         0         \n",
      "_________________________________________________________________\n",
      "flatten (Flatten)            (None, 4608)              0         \n",
      "_________________________________________________________________\n",
      "dense_4 (Dense)              (None, 128)               589952    \n",
      "_________________________________________________________________\n",
      "dropout_2 (Dropout)          (None, 128)               0         \n",
      "_________________________________________________________________\n",
      "dense_5 (Dense)              (None, 2)                 258       \n",
      "=================================================================\n",
      "Total params: 15,304,898\n",
      "Trainable params: 590,210\n",
      "Non-trainable params: 14,714,688\n",
      "_________________________________________________________________\n"
     ]
    }
   ],
   "source": [
    "covid_pneumo_model = load_model('../model/covid_pneumo_model.h5')\n",
    "\n",
    "# Show the model architecture\n",
    "covid_pneumo_model.summary()"
   ]
  },
  {
   "cell_type": "markdown",
   "metadata": {},
   "source": [
    "## Testing model with Real images"
   ]
  },
  {
   "cell_type": "markdown",
   "metadata": {},
   "source": [
    "### Test on Covid images (From March/2020)"
   ]
  },
  {
   "cell_type": "code",
   "execution_count": 7,
   "metadata": {
    "ExecuteTime": {
     "end_time": "2020-05-14T16:04:05.326516Z",
     "start_time": "2020-05-14T16:04:05.191670Z"
    }
   },
   "outputs": [
    {
     "name": "stdout",
     "output_type": "stream",
     "text": [
      "2966893D-5DDF-4B68-9E2B-4979D5956C8E.jpeg\r\n",
      "31BA3780-2323-493F-8AED-62081B9C383B.jpeg\r\n",
      "6C94A287-C059-46A0-8600-AFB95F4727B7.jpeg\r\n",
      "7C69C012-7479-493F-8722-ABC29C60A2DD.jpeg\r\n",
      "B2D20576-00B7-4519-A415-72DE29C90C34.jpeg\r\n",
      "E63574A7-4188-4C8D-8D17-9D67A18A1AFA.jpeg\r\n",
      "F2DE909F-E19C-4900-92F5-8F435B031AC6.jpeg\r\n",
      "F4341CE7-73C9-45C6-99C8-8567A5484B63.jpeg\r\n"
     ]
    }
   ],
   "source": [
    "!ls ../dataset_validation/covid_validation/"
   ]
  },
  {
   "cell_type": "code",
   "execution_count": 13,
   "metadata": {
    "ExecuteTime": {
     "end_time": "2020-05-14T16:05:26.694226Z",
     "start_time": "2020-05-14T16:05:26.374653Z"
    }
   },
   "outputs": [
    {
     "data": {
      "text/plain": [
       "('POSITIVE', 96.0)"
      ]
     },
     "execution_count": 13,
     "metadata": {},
     "output_type": "execute_result"
    }
   ],
   "source": [
    "imagePath = '../dataset_validation/covid_validation/6C94A287-C059-46A0-8600-AFB95F4727B7.jpeg'\n",
    "test_rx_image_for_Covid19_2(covid_pneumo_model, imagePath)"
   ]
  },
  {
   "cell_type": "markdown",
   "metadata": {},
   "source": [
    "### Testing on normal images:"
   ]
  },
  {
   "cell_type": "code",
   "execution_count": 14,
   "metadata": {
    "ExecuteTime": {
     "end_time": "2020-05-14T16:07:06.832321Z",
     "start_time": "2020-05-14T16:07:06.633005Z"
    }
   },
   "outputs": [
    {
     "data": {
      "text/plain": [
       "('NEGATIVE', 99.0)"
      ]
     },
     "execution_count": 14,
     "metadata": {},
     "output_type": "execute_result"
    }
   ],
   "source": [
    "imagePath = '../dataset_validation/normal_validation/IM-0177-0001.jpeg'\n",
    "test_rx_image_for_Covid19_2(covid_pneumo_model, imagePath)"
   ]
  },
  {
   "cell_type": "markdown",
   "metadata": {},
   "source": [
    "### Testing With Non Covid - Pneumonia"
   ]
  },
  {
   "cell_type": "code",
   "execution_count": 15,
   "metadata": {
    "ExecuteTime": {
     "end_time": "2020-05-14T16:07:24.806220Z",
     "start_time": "2020-05-14T16:07:24.620615Z"
    }
   },
   "outputs": [
    {
     "data": {
      "text/plain": [
       "('NEGATIVE', 98.0)"
      ]
     },
     "execution_count": 15,
     "metadata": {},
     "output_type": "execute_result"
    }
   ],
   "source": [
    "imagePath = '../dataset_validation/non_covid_pneumonia_validation/person63_bacteria_306.jpeg'\n",
    "test_rx_image_for_Covid19_2(covid_pneumo_model, imagePath)"
   ]
  },
  {
   "cell_type": "markdown",
   "metadata": {},
   "source": [
    "# Running a Python Script"
   ]
  },
  {
   "cell_type": "code",
   "execution_count": 48,
   "metadata": {
    "ExecuteTime": {
     "end_time": "2020-05-06T22:51:10.572232Z",
     "start_time": "2020-05-06T22:51:10.399024Z"
    }
   },
   "outputs": [
    {
     "name": "stdout",
     "output_type": "stream",
     "text": [
      "10_AI_Xray_Covid19_Detection.ipynb\r\n",
      "20_AI_Xray_Covid19_Pneumo_Detection.ipynb\r\n",
      "30_AI_Xray_Covid19_Pneumo_Detection-Hyperparameters_test.ipynb\r\n",
      "40_AI_Xray_Normal_Pneumo_Detection.ipynb\r\n",
      "50_AI_Xray_Covid19_Pneumo_Detection_Application.ipynb\r\n",
      "covidXrayApp_test.ipynb\r\n",
      "covidXrayApp_test.py\r\n",
      "plot.png\r\n"
     ]
    }
   ],
   "source": [
    "ls"
   ]
  },
  {
   "cell_type": "code",
   "execution_count": 50,
   "metadata": {
    "ExecuteTime": {
     "end_time": "2020-05-06T22:52:48.079787Z",
     "start_time": "2020-05-06T22:52:47.860895Z"
    }
   },
   "outputs": [],
   "source": [
    "! python covidXrayApp_test.py"
   ]
  },
  {
   "cell_type": "markdown",
   "metadata": {},
   "source": [
    "### "
   ]
  }
 ],
 "metadata": {
  "kernelspec": {
   "display_name": "Python 3",
   "language": "python",
   "name": "python3"
  },
  "language_info": {
   "codemirror_mode": {
    "name": "ipython",
    "version": 3
   },
   "file_extension": ".py",
   "mimetype": "text/x-python",
   "name": "python",
   "nbconvert_exporter": "python",
   "pygments_lexer": "ipython3",
   "version": "3.8.5"
  },
  "nbTranslate": {
   "displayLangs": [
    "*"
   ],
   "hotkey": "alt-t",
   "langInMainMenu": true,
   "sourceLang": "en",
   "targetLang": "fr",
   "useGoogleTranslate": true
  },
  "toc": {
   "base_numbering": 1,
   "nav_menu": {},
   "number_sections": true,
   "sideBar": true,
   "skip_h1_title": true,
   "title_cell": "Table of Contents",
   "title_sidebar": "Contents",
   "toc_cell": false,
   "toc_position": {},
   "toc_section_display": true,
   "toc_window_display": true
  },
  "varInspector": {
   "cols": {
    "lenName": 16,
    "lenType": 16,
    "lenVar": 40
   },
   "kernels_config": {
    "python": {
     "delete_cmd_postfix": "",
     "delete_cmd_prefix": "del ",
     "library": "var_list.py",
     "varRefreshCmd": "print(var_dic_list())"
    },
    "r": {
     "delete_cmd_postfix": ") ",
     "delete_cmd_prefix": "rm(",
     "library": "var_list.r",
     "varRefreshCmd": "cat(var_dic_list()) "
    }
   },
   "types_to_exclude": [
    "module",
    "function",
    "builtin_function_or_method",
    "instance",
    "_Feature"
   ],
   "window_display": false
  }
 },
 "nbformat": 4,
 "nbformat_minor": 4
}
